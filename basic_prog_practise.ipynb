{
 "cells": [
  {
   "cell_type": "code",
   "execution_count": null,
   "metadata": {},
   "outputs": [],
   "source": [
    "#prog-1\n",
    "\n",
    "print(\"Hello Python\")"
   ]
  },
  {
   "cell_type": "code",
   "execution_count": null,
   "metadata": {},
   "outputs": [],
   "source": [
    "#prog-2\n",
    "\n",
    "#addition\n",
    "num1 = float(input(\"Enter the first number: \"))\n",
    "num2 = float(input(\"Enter the second number: \"))\n",
    "\n",
    "result_sum = num1 +  num2\n",
    "print(f\"sum of {num1} & {num2} is {result_sum}\")"
   ]
  },
  {
   "cell_type": "code",
   "execution_count": 9,
   "metadata": {},
   "outputs": [
    {
     "name": "stdout",
     "output_type": "stream",
     "text": [
      "Division of 5.0 & 25.0 is 5.0\n"
     ]
    }
   ],
   "source": [
    "#prog-2\n",
    "\n",
    "#division\n",
    "num3 = float(input(\"Enter the dividend for division: \"))\n",
    "num4 = float(input(\"Enter the divisor for division: \"))\n",
    "\n",
    "if num4==0:\n",
    "    print(\"Error:Division by Zero is not  allowed\")\n",
    "else:\n",
    "    result_div = num3/num4\n",
    "    print(f\"Division of {num4} & {num3} is {result_div}\")"
   ]
  },
  {
   "cell_type": "code",
   "execution_count": 11,
   "metadata": {},
   "outputs": [
    {
     "name": "stdout",
     "output_type": "stream",
     "text": [
      "The area of triangle is 75.0\n"
     ]
    }
   ],
   "source": [
    "# prog-3\n",
    "\n",
    "base = float(input(\"Enter the length of the base of Triangle: \"))\n",
    "height = float(input(\"Enter the height  of the Triangle: \"))\n",
    "\n",
    "area = 0.5 * base * height\n",
    "\n",
    "print(f\"The area of triangle is {area}\")"
   ]
  },
  {
   "cell_type": "code",
   "execution_count": 12,
   "metadata": {},
   "outputs": [
    {
     "name": "stdout",
     "output_type": "stream",
     "text": [
      "Original Values: a = 5 ; b = 6\n",
      "Swapped Values :a = 6 ; b = 5\n"
     ]
    }
   ],
   "source": [
    "# prog-4\n",
    "a=input(\"Enter value of first variable (a): \")\n",
    "b=input(\"Enter value of first variable (b): \")\n",
    "\n",
    "print(f\"Original Values: a = {a} ; b = {b}\")\n",
    "\n",
    "temp_a = a\n",
    "a=b\n",
    "b=temp_a\n",
    "\n",
    "print(f\"Swapped Values :a = {a} ; b = {temp_a}\")\n",
    "\n"
   ]
  },
  {
   "cell_type": "code",
   "execution_count": 68,
   "metadata": {},
   "outputs": [
    {
     "name": "stdout",
     "output_type": "stream",
     "text": [
      "Random number:85\n"
     ]
    }
   ],
   "source": [
    "# prog-5\n",
    "\n",
    "import random\n",
    "\n",
    "print(f\"Random number:{random.randint(1,100)}\")"
   ]
  },
  {
   "cell_type": "code",
   "execution_count": 2,
   "metadata": {},
   "outputs": [
    {
     "name": "stdout",
     "output_type": "stream",
     "text": [
      "100.0 kilometer is equal to 62.137100000000004 miles.\n"
     ]
    }
   ],
   "source": [
    "# prog-6\n",
    "\n",
    "# Conversion factor: 1 kilometer = 0.621371 miles\n",
    "\n",
    "kilometer = float(input(\"Enter the Kilometer: \"))\n",
    "\n",
    "conversion_factor = 0.621371\n",
    "\n",
    "miles = 0.621371 * kilometer\n",
    "\n",
    "print(f\"{kilometer} kilometer is equal to {miles} miles.\")"
   ]
  },
  {
   "cell_type": "code",
   "execution_count": 3,
   "metadata": {},
   "outputs": [
    {
     "name": "stdout",
     "output_type": "stream",
     "text": [
      "37.0 degree celsius is equal to 98.6 degree fahrenheit\n"
     ]
    }
   ],
   "source": [
    "# prog-7\n",
    "\n",
    "celius = float(input(\"Enter temperature in celsius: \"))\n",
    "\n",
    "# Conversion formula: Fahrenheit = (Celsius * 9/5) + 32\n",
    "\n",
    "fahrenheit = (celius * 9/5) + 32\n",
    "\n",
    "print(f\"{celius} degrees celsius is equal to {fahrenheit} degrees fahrenheit\")"
   ]
  },
  {
   "cell_type": "code",
   "execution_count": 5,
   "metadata": {},
   "outputs": [
    {
     "name": "stdout",
     "output_type": "stream",
     "text": [
      "   February 2024\n",
      "Mo Tu We Th Fr Sa Su\n",
      "          1  2  3  4\n",
      " 5  6  7  8  9 10 11\n",
      "12 13 14 15 16 17 18\n",
      "19 20 21 22 23 24 25\n",
      "26 27 28 29\n",
      "\n"
     ]
    }
   ],
   "source": [
    "# prog-8\n",
    "import calendar\n",
    "\n",
    "year = int(input(\"Enter the year: \"))\n",
    "month = int(input(\"Enter the month: \"))\n",
    "\n",
    "cal = calendar.month(year,month)\n",
    "print(cal)"
   ]
  },
  {
   "cell_type": "code",
   "execution_count": 7,
   "metadata": {},
   "outputs": [
    {
     "name": "stdout",
     "output_type": "stream",
     "text": [
      "Before Swapping : a = 10 , b = 20\n",
      "After swappping : a = 20 , b = 10\n"
     ]
    }
   ],
   "source": [
    "# prog-9\n",
    "\n",
    "# Swapping without a temporary variable\n",
    "\n",
    "a=int(input(\"Enter the first number: \"))\n",
    "b=int(input(\"Enter the second number: \"))\n",
    "\n",
    "print(f\"Before Swapping : a = {a} , b = {b}\")\n",
    "\n",
    "a,b = b,a\n",
    "\n",
    "print(f\"After swappping : a = {a} , b = {b}\")"
   ]
  },
  {
   "cell_type": "code",
   "execution_count": 16,
   "metadata": {},
   "outputs": [
    {
     "name": "stdout",
     "output_type": "stream",
     "text": [
      "Zero is neither positive nor negative.\n"
     ]
    }
   ],
   "source": [
    "# prog-10\n",
    "# Write a Python Program to Check if a Number is Positive, Negative or Zero.\n",
    "\n",
    "num = float(input(\"Enter the number: \"))\n",
    "\n",
    "if num > 0:\n",
    "    print(f\"The number {num} is Positive\")\n",
    "elif num == 0:\n",
    "    print(\"Zero is neither positive nor negative.\")\n",
    "else:\n",
    "    print(f\"The number {num} is negative\")\n"
   ]
  },
  {
   "cell_type": "code",
   "execution_count": 18,
   "metadata": {},
   "outputs": [
    {
     "name": "stdout",
     "output_type": "stream",
     "text": [
      "This is Even Number.\n"
     ]
    }
   ],
   "source": [
    "# prog-11\n",
    "# Write a Python Program to Check if a Number is Odd or Even.\n",
    "\n",
    "num = float(input(\"Enter the number: \"))\n",
    "\n",
    "if num % 2 == 0:\n",
    "    print(\"This is Even Number.\")\n",
    "else:\n",
    "    print(\"This is Odd Number.\")"
   ]
  },
  {
   "cell_type": "code",
   "execution_count": 23,
   "metadata": {},
   "outputs": [
    {
     "name": "stdout",
     "output_type": "stream",
     "text": [
      "1700 is not Leap year\n"
     ]
    }
   ],
   "source": [
    "# Program 13\n",
    "# Write a Python Program to Check Leap Year\n",
    "\n",
    "year = int(input(\"Enter the year: \"))\n",
    "\n",
    "# In Python, {0} within a string format specifier represents \n",
    "# a placeholder for the first argument passed to the format() method.\n",
    "# It's a way to insert dynamic values into a string.\n",
    "# print(\"{0} is a leap year\".format(year))\n",
    "\n",
    "if (year % 400) == 0 and (year % 100) == 0:\n",
    "    print(\"{0} is Leap year\".format(year))\n",
    "\n",
    "elif (year % 4) == 0 and (year % 100) != 0:\n",
    "    print(\"{0} is Leap year\".format(year))\n",
    "\n",
    "else:\n",
    "    print(\"{0} is not Leap year\".format(year))\n"
   ]
  },
  {
   "cell_type": "code",
   "execution_count": 2,
   "metadata": {},
   "outputs": [
    {
     "name": "stdout",
     "output_type": "stream",
     "text": [
      "13 is a Prime number.\n"
     ]
    }
   ],
   "source": [
    "# Program 14\n",
    "# Write a Python Program to Check Prime Number\n",
    "\n",
    "num = int(input(\"Enter the number: \"))\n",
    "\n",
    "flag = False\n",
    "\n",
    "if num == 1:\n",
    "    print(f\"{num} is not a prime number\")\n",
    "\n",
    "elif num > 1:\n",
    "    for i in range(2,num):\n",
    "        if (num % i) == 0:\n",
    "            flag = True\n",
    "            break\n",
    "\n",
    "if flag:\n",
    "    print(f\"{num} is not a Prime number.\")\n",
    "else:\n",
    "    print(f\"{num} is a Prime number.\")"
   ]
  },
  {
   "cell_type": "code",
   "execution_count": 3,
   "metadata": {},
   "outputs": [
    {
     "name": "stdout",
     "output_type": "stream",
     "text": [
      "The Prime number between 1 and 10 are:\n",
      "2\n",
      "3\n",
      "5\n",
      "7\n"
     ]
    }
   ],
   "source": [
    "# Program 15 ¶\n",
    "# Write a Python Program to Print all Prime Numbers in an Interval of 1-10.\n",
    "\n",
    "lower = 1\n",
    "upper = 10\n",
    "\n",
    "print(f\"The Prime number between {lower} and {upper} are:\")\n",
    "\n",
    "for num in range(lower , upper+1):\n",
    "    if num > 1:\n",
    "        for i in range(2, num):\n",
    "            if num % i == 0 :\n",
    "                break\n",
    "        else:\n",
    "            print(num)"
   ]
  },
  {
   "cell_type": "code",
   "execution_count": 7,
   "metadata": {},
   "outputs": [
    {
     "name": "stdout",
     "output_type": "stream",
     "text": [
      "The madAM is a Palindrome\n"
     ]
    }
   ],
   "source": [
    "# Program 16\n",
    "# Write a Python Program to find PALINDROME\n",
    "\n",
    "#using [::-1]\n",
    "word = str(input(\"Enter the word: \"))\n",
    "\n",
    "lower_word = word.lower()\n",
    "\n",
    "if lower_word == lower_word[::-1]:\n",
    "    print(f\"The {word} is a Palindrome\")\n",
    "else:\n",
    "    print(f\"The {word} is not a Palindrome\")"
   ]
  },
  {
   "cell_type": "code",
   "execution_count": 9,
   "metadata": {},
   "outputs": [
    {
     "name": "stdout",
     "output_type": "stream",
     "text": [
      "malayalam\n"
     ]
    }
   ],
   "source": [
    "#using for two pointer method( left,right)\n",
    "\n",
    "num = int(input(\"Enter the numbers : \"))\n",
    "def ispalindrome(num):\n",
    "    \n",
    "    string = str(num)\n",
    "    \n",
    "    left = 0\n",
    "    \n",
    "    right = len(string) - 1\n",
    "    \n",
    "    while left <= right:\n",
    "        \n",
    "        if int(string[left])==int(string[right]):\n",
    "            left+=1\n",
    "            right-=1\n",
    "        else:\n",
    "            return False\n",
    "    return True\n",
    "\n",
    "print(ispalindrome(num))"
   ]
  },
  {
   "cell_type": "code",
   "execution_count": 12,
   "metadata": {},
   "outputs": [
    {
     "name": "stdout",
     "output_type": "stream",
     "text": [
      "Factorial of 4 is : 24\n"
     ]
    }
   ],
   "source": [
    "#program -17\n",
    "# Write a Python Program to Find the Factorial of a Number\n",
    "\n",
    "num = int(input(\"Enter the number: \"))\n",
    "\n",
    "factorial = 1\n",
    "\n",
    "if num < 0 :\n",
    "    print(\"Factorial does not exist in negative number!\")\n",
    "elif num == 0:\n",
    "    print(f\"Factorial of {num} is : 1\")\n",
    "    \n",
    "else:\n",
    "    for i in range(1,num+1):\n",
    "        factorial = factorial * i\n",
    "    print(f\"Factorial of {num} is : {factorial}\")\n"
   ]
  },
  {
   "cell_type": "code",
   "execution_count": 13,
   "metadata": {},
   "outputs": [
    {
     "name": "stdout",
     "output_type": "stream",
     "text": [
      "11 x 1 = 11\n",
      "11 x 2 = 22\n",
      "11 x 3 = 33\n",
      "11 x 4 = 44\n",
      "11 x 5 = 55\n",
      "11 x 6 = 66\n",
      "11 x 7 = 77\n",
      "11 x 8 = 88\n",
      "11 x 9 = 99\n",
      "11 x 10 = 110\n"
     ]
    }
   ],
   "source": [
    "#program -17\n",
    "# Write a Python Program to Display the multiplication Table.\n",
    "\n",
    "number = int(input(\"Display Multiplication table of : \"))\n",
    "\n",
    "for i in range(1 , 11):\n",
    "    print(f\"{number} x {i} = {number * i}\")\n"
   ]
  },
  {
   "cell_type": "code",
   "execution_count": 1,
   "metadata": {},
   "outputs": [
    {
     "name": "stdout",
     "output_type": "stream",
     "text": [
      "0\n",
      "1\n",
      "1\n",
      "2\n",
      "3\n",
      "5\n",
      "8\n",
      "13\n",
      "21\n",
      "34\n"
     ]
    }
   ],
   "source": [
    "#program -18\n",
    "\n",
    "# Write a Python Program to Print the Fibonacci sequence\n",
    "nterms = int(input(\"How many terms: \"))\n",
    "n1 , n2 = 0,1\n",
    "count = 0\n",
    "\n",
    "if nterms < 0 :\n",
    "    print(\"Please enter postive integers\")\n",
    "elif nterms == 1:\n",
    "    print(\"Fibonacci sequence upto\",nterms,\":\")\n",
    "    print(n1)\n",
    "    \n",
    "else:\n",
    "    while count < nterms:\n",
    "        print(n1)\n",
    "        nth = n1 + n2\n",
    "        n1=n2\n",
    "        n2=nth\n",
    "        \n",
    "        count+=1"
   ]
  },
  {
   "cell_type": "code",
   "execution_count": 3,
   "metadata": {},
   "outputs": [
    {
     "name": "stdout",
     "output_type": "stream",
     "text": [
      "Fibonacci sequence:\n",
      "0\n",
      "1\n",
      "1\n",
      "2\n",
      "3\n",
      "5\n",
      "8\n",
      "13\n",
      "21\n",
      "34\n"
     ]
    }
   ],
   "source": [
    "#program -19\n",
    "# Write a Python Program to Display Fibonacci Sequence Using Recursion.\n",
    "\n",
    "def recur_fibo(n):\n",
    "    if n <= 1:\n",
    "        return n\n",
    "    else:\n",
    "        return(recur_fibo(n-1) + recur_fibo(n-2))\n",
    "    \n",
    "nterms = int(input(\"Enter the number of terms (greater than 0):\"))\n",
    "\n",
    "# check if the number of terms is valid\n",
    "if nterms <= 0:\n",
    "    print(\"P1ese enter a positive integer\")\n",
    "else:\n",
    "    print(\"Fibonacci sequence:\")\n",
    "for i in range(nterms):\n",
    "    print(recur_fibo(i))"
   ]
  },
  {
   "cell_type": "code",
   "execution_count": null,
   "metadata": {},
   "outputs": [],
   "source": [
    "n = "
   ]
  }
 ],
 "metadata": {
  "kernelspec": {
   "display_name": "Python 3",
   "language": "python",
   "name": "python3"
  },
  "language_info": {
   "codemirror_mode": {
    "name": "ipython",
    "version": 3
   },
   "file_extension": ".py",
   "mimetype": "text/x-python",
   "name": "python",
   "nbconvert_exporter": "python",
   "pygments_lexer": "ipython3",
   "version": "3.12.2"
  }
 },
 "nbformat": 4,
 "nbformat_minor": 2
}
